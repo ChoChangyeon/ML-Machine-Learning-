{
  "nbformat": 4,
  "nbformat_minor": 0,
  "metadata": {
    "colab": {
      "provenance": [],
      "authorship_tag": "ABX9TyMT40fsae7nCH2TkMquIH0u",
      "include_colab_link": true
    },
    "kernelspec": {
      "name": "python3",
      "display_name": "Python 3"
    },
    "language_info": {
      "name": "python"
    }
  },
  "cells": [
    {
      "cell_type": "markdown",
      "metadata": {
        "id": "view-in-github",
        "colab_type": "text"
      },
      "source": [
        "<a href=\"https://colab.research.google.com/github/ChoChangyeon/ML-Machine-Learning-/blob/main/%EC%BD%94%EB%93%9C_%EC%9B%90%EB%B3%B8_%ED%8C%8C%EC%9D%BC.ipynb\" target=\"_parent\"><img src=\"https://colab.research.google.com/assets/colab-badge.svg\" alt=\"Open In Colab\"/></a>"
      ]
    },
    {
      "cell_type": "code",
      "execution_count": null,
      "metadata": {
        "id": "3L7KhBvdggXt"
      },
      "outputs": [],
      "source": [
        "import numpy as np\n",
        "import matplotlib.pyplot as plt\n",
        "import pandas as pd\n",
        "import openai\n",
        "import os\n",
        "import time\n",
        "from sklearn.model_selection import train_test_split\n",
        "from google.colab import drive\n",
        "drive.mount('/content/drive')\n",
        "import mglearn\n",
        "!mkdir \"~/Insurance\"\n",
        "!cd \"~/Insurance\"\n",
        "from sklearn.neighbors import KNeighborsClassifier\n",
        "openai.api_key = # GPT api key 입력\n",
        "\n",
        "# 필요 요소 설치 및 준비"
      ]
    },
    {
      "cell_type": "code",
      "source": [
        "insurance_weights = pd.read_csv('~/insurance_weights.csv')\n",
        "insurance_dataset = pd.read_csv('~/Preprocessing_Data.csv')\n",
        "\n",
        "# 필요 데이터 호출\n",
        "# 각각 가중치 데이터와 전처리 데이터"
      ],
      "metadata": {
        "id": "gUlmzlRR3vw6"
      },
      "execution_count": null,
      "outputs": []
    },
    {
      "cell_type": "code",
      "source": [
        "def Choosing_significant(prompt):\n",
        "    messages = [{\"role\": \"user\", \"content\": prompt}]\n",
        "    response = openai.ChatCompletion.create(\n",
        "        model=\"gpt-3.5-turbo\",\n",
        "        messages=[{\"role\": \"system\", \"content\": \"당신은 문장의 핵심 주제를 알아내는 AI입니다. 입력된 문장의 핵심 주제가 '한부모 가정'과 '가족력' 중 하나라면 해당 단어를 출력하고, 둘 다 관련이 없다면 '일반'을 출력하면 됩니다. 다른 말은 없이 해당 단어만 출력하면 됩니다.\"},messages],\n",
        "        temperature=0,\n",
        "    )\n",
        "    return response.choices[0].message[\"content\"]\n",
        "\n",
        "# 이용자의 답변에서 특성 추출"
      ],
      "metadata": {
        "id": "TilrWqlt6eyg"
      },
      "execution_count": null,
      "outputs": []
    },
    {
      "cell_type": "code",
      "source": [
        "def kNNweights(dataset,significant):\n",
        "  if significant == 'single_parent':\n",
        "    for i in range(len(dataset)):\n",
        "      weights_datasets = insurance_weights.loc[1] * dataset.loc[i]\n",
        "      dataset.loc[i] = weights_datasets\n",
        "  elif significant == 'family_history':\n",
        "    for i in range(len(dataset)):\n",
        "      weights_datasets = insurance_weights.loc[2] * dataset.loc[i]\n",
        "      dataset.loc[i] = weights_datasets\n",
        "  else:\n",
        "    for i in range(len(dastaset)):\n",
        "      weights_datasets = insurance_weights.loc[0] * dataset.loc[i]\n",
        "      dataset.loc[i] = weights_datasets\n",
        "\n",
        "  return dataset\n",
        "\n",
        "# 특성별 가중치 데이터에 반영"
      ],
      "metadata": {
        "id": "9cKpc1AyHRVh"
      },
      "execution_count": null,
      "outputs": []
    },
    {
      "cell_type": "code",
      "source": [
        "def normalization(Datasets):\n",
        "  minVals = Datasets.min(axis=0)\n",
        "  maxVals = Datasets.max(axis=0)\n",
        "  ranges = maxVals-minVals\n",
        "  m = Datasets.shape[0]\n",
        "  normMatrix = Datasets - np.tile(minVals,(m,1))\n",
        "  normMatrix = normMatrix / np.tile(ranges,(m,1))\n",
        "  return normMatrix\n",
        "\n",
        "# 데이터 정규화"
      ],
      "metadata": {
        "id": "u8wMbLT7LE9a"
      },
      "execution_count": null,
      "outputs": []
    },
    {
      "cell_type": "code",
      "source": [
        "data, target = insurance_dataset_norm[['age','sex','bmi','children','smoker','region']], insurance_dataset['charges']\n",
        "\n",
        "# 데이터 분리 작업\n",
        "# 데이터 = 나이, 성별, bmi, 자녀수, 흡연여부, 거주지역\n",
        "# 타겟 = 보험료\n",
        "\n",
        "\n",
        "\n",
        "Data_train, Data_test, Target_train, Target_test = train_test_split(data, target)\n",
        "\n",
        "# 학습자료, 시험자료 분리"
      ],
      "metadata": {
        "id": "QcrHxIDcYr1u"
      },
      "execution_count": null,
      "outputs": []
    },
    {
      "cell_type": "code",
      "source": [
        "knn=KNeighborsClassifier(n_neighbors=2)\n",
        "\n",
        "knn.fit(Data_train,Target_train)\n",
        "\n",
        "# kNN 알고리즘 적용"
      ],
      "metadata": {
        "id": "8AYiAtPdZb7G"
      },
      "execution_count": null,
      "outputs": []
    },
    {
      "cell_type": "code",
      "source": [
        "data = {\n",
        "    'age': [25],\n",
        "    'sex': [0],\n",
        "    'bmi': [24.33],\n",
        "    'children': [2],\n",
        "    'smoker': [1],\n",
        "    'region': [2]\n",
        "}\n",
        "predict_df = pd.DataFrame(data)\n",
        "predict = knn.predict(predict_df)\n",
        "print(predict)\n",
        "\n",
        "# 예상 적정 보험료 반영 예시"
      ],
      "metadata": {
        "id": "LhnULl8cbeVR"
      },
      "execution_count": null,
      "outputs": []
    },
    {
      "cell_type": "code",
      "source": [
        "Target_test_deviation = []\n",
        "for i in range(0,335):\n",
        "   a = Target_test_list[i] - prediction[i]\n",
        "   Target_test_deviation.append(a)\n",
        "\n",
        "Target_deviation = {'Deviation':Target_test_deviation}\n",
        "Target_deviation_df = pd.DataFrame(Target_deviation)\n",
        "\n",
        "# 실제 값과 예상 값의 편차 도출 및 데이터프레임화"
      ],
      "metadata": {
        "id": "93ap3dQcdvZk"
      },
      "execution_count": null,
      "outputs": []
    }
  ]
}