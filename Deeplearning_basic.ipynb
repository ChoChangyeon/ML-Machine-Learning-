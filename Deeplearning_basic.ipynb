{
  "nbformat": 4,
  "nbformat_minor": 0,
  "metadata": {
    "colab": {
      "provenance": [],
      "authorship_tag": "ABX9TyP+lMsuKzxi2+bwmsQyCdY/",
      "include_colab_link": true
    },
    "kernelspec": {
      "name": "python3",
      "display_name": "Python 3"
    },
    "language_info": {
      "name": "python"
    }
  },
  "cells": [
    {
      "cell_type": "markdown",
      "metadata": {
        "id": "view-in-github",
        "colab_type": "text"
      },
      "source": [
        "<a href=\"https://colab.research.google.com/github/ChoChangyeon/ML-Machine-Learning-/blob/main/%EB%94%A5%EB%9F%AC%EB%8B%9D_%EA%B8%B0%EB%B3%B8%EC%98%88%EC%A0%9C.ipynb\" target=\"_parent\"><img src=\"https://colab.research.google.com/assets/colab-badge.svg\" alt=\"Open In Colab\"/></a>"
      ]
    },
    {
      "cell_type": "code",
      "execution_count": 4,
      "metadata": {
        "id": "xt8yetl_aWfp",
        "colab": {
          "base_uri": "https://localhost:8080/"
        },
        "outputId": "f10d3f9f-c6f4-42ec-d22c-f31fa07eda08"
      },
      "outputs": [
        {
          "output_type": "stream",
          "name": "stdout",
          "text": [
            "-0.982084215399889\n",
            "-1.006521865695289\n",
            "0.9543821932714491\n",
            "1.0091953132159273\n",
            "-1.0255279219794315\n",
            "-0.9554136972486718\n"
          ]
        }
      ],
      "source": [
        "import random\n",
        "import math\n",
        "\n",
        "a = random.uniform(-1,1)\n",
        "b = random.uniform(-1,1)\n",
        "c = random.uniform(-1,1)\n",
        "d = random.uniform(-1,1)\n",
        "e = random.uniform(-1,1)\n",
        "f = random.uniform(-1,1)\n",
        "g = random.uniform(-1,1)\n",
        "h = random.uniform(-1,1)\n",
        "i = random.uniform(-1,1)\n",
        "j = random.uniform(-1,1)\n",
        "k = random.uniform(-1,1)\n",
        "l = random.uniform(-1,1)\n",
        "m = random.uniform(-1,1)\n",
        "n = random.uniform(-1,1)\n",
        "o = random.uniform(-1,1)\n",
        "\n",
        "eta = 0.00001\n",
        "\n",
        "data = [(5,10), (7,18), (10,8),(15,15),(20,3),(23,12)]\n",
        "label = [-1,-1,+1,+1,-1,-1]\n",
        "\n",
        "def sigmoid(x):\n",
        "  return 1.0/(1.0+math.exp(-x))\n",
        "\n",
        "def node_output(x,y,a,b,c):\n",
        "  return a*x + b*y + c\n",
        "\n",
        "def back_sigmoid(fore_gredient, para, this_value):\n",
        "  return fore_gredient*para*sigmoid(this_value)*(1.0-sigmoid(this_value))\n",
        "\n",
        "for counter in range(1000000):\n",
        "  da=db=dc=dd=de=df=dg=dh=di=dj=dk=dl=dm=dn=do=0.0\n",
        "\n",
        "  for idx in range(len(data)):\n",
        "    x = float(data[idx][0])\n",
        "    y = float(data[idx][1])\n",
        "\n",
        "    z1 = node_output(x,y,a,b,e)\n",
        "    z2 = node_output(x,y,c,d,f)\n",
        "    X1 = sigmoid(z1)\n",
        "    Y1 = sigmoid(z2)\n",
        "    z3 = node_output(X1,Y1,g,h,k)\n",
        "    z4 = node_output(X1,Y1,i,j,l)\n",
        "    X2 = sigmoid(z3)\n",
        "    Y2 = sigmoid(z4)\n",
        "    z = node_output(X2,Y2,m,n,o)\n",
        "\n",
        "    Z = label[idx]\n",
        "    dz = 2*(z-Z)\n",
        "\n",
        "    dz3 = back_sigmoid(dz,m,z3)\n",
        "    dz4 = back_sigmoid(dz,n,z4)\n",
        "    dm += dz*X2\n",
        "    dn += dz*Y2\n",
        "    do += dz\n",
        "\n",
        "    dg += dz3*X1\n",
        "    dh += dz3*Y1\n",
        "    dk += dz3\n",
        "\n",
        "    di += dz4*X1\n",
        "    dj += dz4*Y1\n",
        "    dl += dz4\n",
        "\n",
        "    dz1 = back_sigmoid(dz3, g, z1)\n",
        "    dz1 += back_sigmoid(dz4, i, z1)\n",
        "\n",
        "    dz2 = back_sigmoid(dz3, h, z2)\n",
        "    dz2 += back_sigmoid(dz4, j, z2)\n",
        "\n",
        "    da += dz1*x\n",
        "    db += dz1*y\n",
        "    de += dz1\n",
        "\n",
        "    dc += dz2*x\n",
        "    dd += dz2*y\n",
        "    df += dz2\n",
        "\n",
        "  a -= eta*da\n",
        "  b -= eta*db\n",
        "  c -= eta*dc\n",
        "  d -= eta*dd\n",
        "  e -= eta*de\n",
        "  f -= eta*df\n",
        "  g -= eta*dg\n",
        "  h -= eta*dh\n",
        "  i -= eta*di\n",
        "  j -= eta*dj\n",
        "  k -= eta*dk\n",
        "  l -= eta*dl\n",
        "  m -= eta*dm\n",
        "  n -= eta*dn\n",
        "  o -= eta*do\n",
        "\n",
        "\n",
        "def print_z(x,y):\n",
        "  A = sigmoid(node_output(x,y,a,b,e))\n",
        "  B = sigmoid(node_output(x,y,c,d,f))\n",
        "  C = sigmoid(node_output(A,B,g,h,k))\n",
        "  D = sigmoid(node_output(A,B,i,j,l))\n",
        "  z = node_output(C,D,m,n,o)\n",
        "  return print(z)\n",
        "\n",
        "print_z(5,10)\n",
        "print_z(7,18)\n",
        "print_z(10,8)\n",
        "print_z(15,15)\n",
        "print_z(20,3)\n",
        "print_z(23,12)"
      ]
    }
  ]
}
