{
  "cells": [
    {
      "cell_type": "markdown",
      "metadata": {
        "id": "view-in-github",
        "colab_type": "text"
      },
      "source": [
        "<a href=\"https://colab.research.google.com/github/ChoChangyeon/ML-Machine-Learning-/blob/main/Deeplearning_application.ipynb\" target=\"_parent\"><img src=\"https://colab.research.google.com/assets/colab-badge.svg\" alt=\"Open In Colab\"/></a>"
      ]
    },
    {
      "cell_type": "code",
      "execution_count": 2,
      "metadata": {
        "colab": {
          "base_uri": "https://localhost:8080/"
        },
        "id": "bwX7kmBlC9bL",
        "outputId": "9fb16d3f-0e8b-4cea-8c07-2443acac005e"
      },
      "outputs": [
        {
          "output_type": "stream",
          "name": "stdout",
          "text": [
            "total data lenth: 100 , train lenth: 80 , test lenth: 20\n"
          ]
        }
      ],
      "source": [
        "import random\n",
        "import math\n",
        "import numpy as np\n",
        "import pandas as pd\n",
        "import warnings\n",
        "\n",
        "warnings.filterwarnings(action='ignore')\n",
        "\n",
        "penguin_csv = pd.read_csv('/content/drive/MyDrive/Python Files/pre_penguins.csv')\n",
        "shuffled_penguin_csv = penguin_csv.iloc[np.random.permutation(penguin_csv.index)].reset_index(drop=True)\n",
        "data = shuffled_penguin_csv[['bill_length_mm', 'bill_depth_mm', 'flipper_length_mm', 'body_mass_g']]\n",
        "target = shuffled_penguin_csv['target']\n",
        "\n",
        "test_data = data[-20:]\n",
        "test_target = target[-20:]\n",
        "train_data = data[:-20]\n",
        "train_target = target[:-20]\n",
        "\n",
        "print('total data lenth:',len(data),', train lenth:',len(train_data), ', test lenth:',len(test_data))"
      ]
    },
    {
      "cell_type": "code",
      "execution_count": 11,
      "metadata": {
        "id": "2pISYNB5GU1R"
      },
      "outputs": [],
      "source": [
        "a = random.uniform(-1,1)\n",
        "b = random.uniform(-1,1)\n",
        "c = random.uniform(-1,1)\n",
        "d = random.uniform(-1,1)\n",
        "e = random.uniform(-1,1)\n",
        "f = random.uniform(-1,1)\n",
        "g = random.uniform(-1,1)\n",
        "h = random.uniform(-1,1)\n",
        "i = random.uniform(-1,1)\n",
        "j = random.uniform(-1,1)\n",
        "k = random.uniform(-1,1)\n",
        "l = random.uniform(-1,1)\n",
        "m = random.uniform(-1,1)\n",
        "n = random.uniform(-1,1)\n",
        "o = random.uniform(-1,1)\n",
        "p = random.uniform(-1,1)\n",
        "q = random.uniform(-1,1)\n",
        "r = random.uniform(-1,1)\n",
        "s = random.uniform(-1,1)\n",
        "\n",
        "eta = 0.000005\n",
        "\n",
        "def sigmoid(x):\n",
        "  return 1.0/(1.0+math.exp(-x))\n",
        "\n",
        "def node_output(x,y,a,b,c):\n",
        "  return a*x + b*y + c\n",
        "\n",
        "def node_output_2(x1,x2,x3,x4,a,b,c,d,e):\n",
        "  return a*x1 + b*x2 + c*x3 + d*x4 + e\n",
        "\n",
        "def back_sigmoid(fore_gredient, para, this_value):\n",
        "  return fore_gredient*para*sigmoid(this_value)*(1.0-sigmoid(this_value))\n",
        "\n"
      ]
    },
    {
      "cell_type": "code",
      "execution_count": null,
      "metadata": {
        "id": "jbyzlSydArHp"
      },
      "outputs": [],
      "source": [
        "for counter in range(10000000):\n",
        "  da=db=dc=dd=de=df=dg=dh=di=dj=0.0\n",
        "  dk=dl=dm=dn=do=dp=dq=dr=ds=0.0\n",
        "\n",
        "  for idx in range(len(train_data)):\n",
        "    x1 = float(train_data.loc[idx][0])\n",
        "    x2 = float(train_data.loc[idx][1])\n",
        "    x3 = float(train_data.loc[idx][2])\n",
        "    x4 = float(train_data.loc[idx][3])\n",
        "\n",
        "    z1 = node_output_2(x1,x2,x3,x4,a,b,c,d,e)\n",
        "    z2 = node_output_2(x1,x2,x3,x4,f,g,h,i,j)\n",
        "    X1 = sigmoid(z1)\n",
        "    Y1 = sigmoid(z2)\n",
        "    z3 = node_output(X1,Y1,k,l,m)\n",
        "    z4 = node_output(X1,Y1,n,o,p)\n",
        "    X2 = sigmoid(z3)\n",
        "    Y2 = sigmoid(z4)\n",
        "    z = node_output(X2,Y2,q,r,s)\n",
        "\n",
        "    Z = train_target.iloc[idx]\n",
        "    dz = 2*(z-Z)\n",
        "\n",
        "    dz3 = back_sigmoid(dz,q,z3)\n",
        "    dz4 = back_sigmoid(dz,r,z4)\n",
        "    dq += dz*X2\n",
        "    dr += dz*Y2\n",
        "    ds += dz\n",
        "\n",
        "    dk += dz3*X1\n",
        "    dl += dz3*Y1\n",
        "    dm += dz3\n",
        "\n",
        "    dn += dz4*X1\n",
        "    do += dz4*Y1\n",
        "    dp += dz4\n",
        "\n",
        "    dz1 = back_sigmoid(dz3, k, z1)\n",
        "    dz1 += back_sigmoid(dz4, l, z1)\n",
        "\n",
        "    dz2 = back_sigmoid(dz3, n, z2)\n",
        "    dz2 += back_sigmoid(dz4, o, z2)\n",
        "\n",
        "    da += dz1*x1\n",
        "    db += dz1*x2\n",
        "    dc += dz1*x3\n",
        "    dd += dz1*x4\n",
        "    de += dz1\n",
        "\n",
        "    df += dz2*x1\n",
        "    dg += dz2*x2\n",
        "    dh += dz2*x3\n",
        "    di += dz2*x4\n",
        "    dj += dz2\n",
        "\n",
        "\n",
        "  a -= eta*da\n",
        "  b -= eta*db\n",
        "  c -= eta*dc\n",
        "  d -= eta*dd\n",
        "  e -= eta*de\n",
        "  f -= eta*df\n",
        "  g -= eta*dg\n",
        "  h -= eta*dh\n",
        "  i -= eta*di\n",
        "  j -= eta*dj\n",
        "  k -= eta*dk\n",
        "  l -= eta*dl\n",
        "  m -= eta*dm\n",
        "  n -= eta*dn\n",
        "  o -= eta*do\n",
        "  p -= eta*dp\n",
        "  q -= eta*dq\n",
        "  r -= eta*dr\n",
        "  s -= eta*ds"
      ]
    },
    {
      "cell_type": "code",
      "execution_count": 13,
      "metadata": {
        "id": "yvcKHQsAK6Y3"
      },
      "outputs": [],
      "source": [
        "def print_z(x1,x2,x3,x4):\n",
        "  A = sigmoid(node_output_2(x1,x2,x3,x4,a,b,c,d,e))\n",
        "  B = sigmoid(node_output_2(x1,x2,x3,x4,f,g,h,i,j))\n",
        "  C = sigmoid(node_output(A,B,k,l,m))\n",
        "  D = sigmoid(node_output(A,B,n,o,p))\n",
        "  z = node_output(C,D,q,r,s)\n",
        "  return z"
      ]
    },
    {
      "cell_type": "code",
      "source": [
        "for idx in range(80,99,1):\n",
        "    x1=x2=x3=x4=0\n",
        "    x1 = float(test_data.loc[idx][0])\n",
        "    x2 = float(test_data.loc[idx][1])\n",
        "    x3 = float(test_data.loc[idx][2])\n",
        "    x4 = float(test_data.loc[idx][3])\n",
        "    z_value = print_z(x1,x2,x3,x4)\n",
        "    print('Prediction: ',z_value, 'Actual: ',test_target[idx])"
      ],
      "metadata": {
        "id": "g_0FDtdC_cGw"
      },
      "execution_count": null,
      "outputs": []
    }
  ],
  "metadata": {
    "colab": {
      "provenance": [],
      "mount_file_id": "1FnONur8QyiRwmEeR4Lk9V-Gsp5FUaFOa",
      "authorship_tag": "ABX9TyMWcqnoD8z/sxtYbE4MABdU",
      "include_colab_link": true
    },
    "kernelspec": {
      "display_name": "Python 3",
      "name": "python3"
    },
    "language_info": {
      "name": "python"
    }
  },
  "nbformat": 4,
  "nbformat_minor": 0
}